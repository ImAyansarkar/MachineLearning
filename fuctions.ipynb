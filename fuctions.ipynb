{
  "nbformat": 4,
  "nbformat_minor": 0,
  "metadata": {
    "colab": {
      "provenance": [],
      "authorship_tag": "ABX9TyNMjC8nbvRE/hA38vZQf8YY",
      "include_colab_link": true
    },
    "kernelspec": {
      "name": "python3",
      "display_name": "Python 3"
    },
    "language_info": {
      "name": "python"
    }
  },
  "cells": [
    {
      "cell_type": "markdown",
      "metadata": {
        "id": "view-in-github",
        "colab_type": "text"
      },
      "source": [
        "<a href=\"https://colab.research.google.com/github/ImAyansarkar/MachineLearning/blob/main/fuctions.ipynb\" target=\"_parent\"><img src=\"https://colab.research.google.com/assets/colab-badge.svg\" alt=\"Open In Colab\"/></a>"
      ]
    },
    {
      "cell_type": "code",
      "execution_count": 2,
      "metadata": {
        "id": "Q3rqkkrMVuDb"
      },
      "outputs": [],
      "source": [
        "def add_three(input_var):\n",
        "    output_var = input_var + 3\n",
        "    return output_var"
      ]
    },
    {
      "cell_type": "code",
      "source": [
        "new_num = add_three(10)\n",
        "print(new_num)"
      ],
      "metadata": {
        "colab": {
          "base_uri": "https://localhost:8080/"
        },
        "id": "Ce04PVHUWRTA",
        "outputId": "70c99b97-392f-443d-d0f2-fdd3827c1230"
      },
      "execution_count": 3,
      "outputs": [
        {
          "output_type": "stream",
          "name": "stdout",
          "text": [
            "13\n"
          ]
        }
      ]
    },
    {
      "cell_type": "code",
      "source": [
        "#paybased function for working hours \n",
        "def get_pay(num_hour):\n",
        "  #pay pretax based on 15 dollar/week\n",
        "  pay_pretax = num_hour*15\n",
        "  #pay ater tax being on 12% tax bracket\n",
        "  pay_aftertax = pay_pretax*(1-.12)\n",
        "  return pay_aftertax"
      ],
      "metadata": {
        "id": "-CQiBJ3qXxA_"
      },
      "execution_count": 4,
      "outputs": []
    },
    {
      "cell_type": "code",
      "source": [
        "pay_fulltime = get_pay(40)\n",
        "print(pay_fulltime)"
      ],
      "metadata": {
        "colab": {
          "base_uri": "https://localhost:8080/"
        },
        "id": "Wd0kYPqMcFBv",
        "outputId": "3b6c750e-0b37-44ed-ee0b-cb6db2ef7842"
      },
      "execution_count": 5,
      "outputs": [
        {
          "output_type": "stream",
          "name": "stdout",
          "text": [
            "528.0\n"
          ]
        }
      ]
    },
    {
      "cell_type": "code",
      "source": [
        "pay_parttime = get_pay(32)\n",
        "print(pay_parttime)"
      ],
      "metadata": {
        "colab": {
          "base_uri": "https://localhost:8080/"
        },
        "id": "2mj5lcSDcdZH",
        "outputId": "ba4c3d1c-5cca-49f1-a1fb-9b08edaa72b5"
      },
      "execution_count": 6,
      "outputs": [
        {
          "output_type": "stream",
          "name": "stdout",
          "text": [
            "422.4\n"
          ]
        }
      ]
    }
  ]
}