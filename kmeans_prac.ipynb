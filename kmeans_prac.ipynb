{
  "nbformat": 4,
  "nbformat_minor": 0,
  "metadata": {
    "colab": {
      "provenance": [],
      "authorship_tag": "ABX9TyPjNTt+VBx3V+ytvWLFEr+A",
      "include_colab_link": true
    },
    "kernelspec": {
      "name": "python3",
      "display_name": "Python 3"
    },
    "language_info": {
      "name": "python"
    }
  },
  "cells": [
    {
      "cell_type": "markdown",
      "metadata": {
        "id": "view-in-github",
        "colab_type": "text"
      },
      "source": [
        "<a href=\"https://colab.research.google.com/github/ImAyansarkar/MachineLearning/blob/main/kmeans_prac.ipynb\" target=\"_parent\"><img src=\"https://colab.research.google.com/assets/colab-badge.svg\" alt=\"Open In Colab\"/></a>"
      ]
    },
    {
      "cell_type": "code",
      "execution_count": 2,
      "metadata": {
        "id": "oHn7EA3fu8FR"
      },
      "outputs": [],
      "source": [
        "import numpy as np \n",
        "import pandas as pd \n",
        "import matplotlib.pyplot as plt  "
      ]
    },
    {
      "cell_type": "code",
      "source": [
        "dataset = pd.read_csv(\"data.csv\")\n",
        "print(dataset)"
      ],
      "metadata": {
        "colab": {
          "base_uri": "https://localhost:8080/"
        },
        "id": "NPkpGIbYvWpx",
        "outputId": "c8443cdf-e30a-4397-d128-d8b10d84346e"
      },
      "execution_count": 3,
      "outputs": [
        {
          "output_type": "stream",
          "name": "stdout",
          "text": [
            "     Age  EstimatedSalary  Purchased\n",
            "0     19            19000          0\n",
            "1     35            20000          0\n",
            "2     26            43000          0\n",
            "3     27            57000          0\n",
            "4     19            76000          0\n",
            "..   ...              ...        ...\n",
            "395   46            41000          1\n",
            "396   51            23000          1\n",
            "397   50            20000          1\n",
            "398   36            33000          0\n",
            "399   49            36000          1\n",
            "\n",
            "[400 rows x 3 columns]\n"
          ]
        }
      ]
    },
    {
      "cell_type": "code",
      "source": [
        "features = dataset.iloc[:, [0,1,2]].values\n",
        "\n",
        "print(features)"
      ],
      "metadata": {
        "colab": {
          "base_uri": "https://localhost:8080/"
        },
        "id": "zCytRhamviVS",
        "outputId": "bd3ea498-31a0-47c5-c458-23ef6fcdd68e"
      },
      "execution_count": 4,
      "outputs": [
        {
          "output_type": "stream",
          "name": "stdout",
          "text": [
            "[[   19 19000     0]\n",
            " [   35 20000     0]\n",
            " [   26 43000     0]\n",
            " ...\n",
            " [   50 20000     1]\n",
            " [   36 33000     0]\n",
            " [   49 36000     1]]\n"
          ]
        }
      ]
    },
    {
      "cell_type": "code",
      "source": [
        "# elbow function \n",
        "from sklearn.cluster import KMeans\n",
        "\n",
        "crt_list = []\n",
        "\n",
        "for i in range (1,11):\n",
        "  kmeans = KMeans(n_clusters= i, init= \"k-means++\", random_state=42)\n",
        "  kmeans.fit(features)\n",
        "  crt_list.append(kmeans.inertia_)\n"
      ],
      "metadata": {
        "id": "fbaAWDvKwHFx"
      },
      "execution_count": 7,
      "outputs": []
    },
    {
      "cell_type": "code",
      "source": [
        "print(crt_list)"
      ],
      "metadata": {
        "colab": {
          "base_uri": "https://localhost:8080/"
        },
        "id": "JHS4g5dkxTjL",
        "outputId": "3bed7252-14e1-42d1-c84c-ed413ff86937"
      },
      "execution_count": 8,
      "outputs": [
        {
          "output_type": "stream",
          "name": "stdout",
          "text": [
            "[463878521438.26733, 165190336687.96143, 59489963605.375336, 33459749213.735886, 19983401111.887352, 14690913333.935707, 10202718955.837753, 8148699194.662287, 6348511385.73785, 5283695665.072072]\n"
          ]
        }
      ]
    },
    {
      "cell_type": "code",
      "source": [
        "plt.plot(range(1,11), crt_list)"
      ],
      "metadata": {
        "colab": {
          "base_uri": "https://localhost:8080/",
          "height": 293
        },
        "id": "uJ_6rcMUxX4U",
        "outputId": "a3fd7238-eba8-42b7-bc7a-a5378fb9be62"
      },
      "execution_count": 9,
      "outputs": [
        {
          "output_type": "execute_result",
          "data": {
            "text/plain": [
              "[<matplotlib.lines.Line2D at 0x7f0a10791520>]"
            ]
          },
          "metadata": {},
          "execution_count": 9
        },
        {
          "output_type": "display_data",
          "data": {
            "text/plain": [
              "<Figure size 432x288 with 1 Axes>"
            ],
            "image/png": "[encoded data removed]"
          },
          "metadata": {
            "needs_background": "light"
          }
        }
      ]
    },
    {
      "cell_type": "code",
      "source": [
        "k =3;\n",
        "kmeans = KMeans(n_clusters=3, init=\"k-means++\", random_state=42)\n",
        "pred=kmeans.fit_predict(features)"
      ],
      "metadata": {
        "id": "KFpfxjhrxp94"
      },
      "execution_count": 10,
      "outputs": []
    },
    {
      "cell_type": "code",
      "source": [
        "print(pred)"
      ],
      "metadata": {
        "colab": {
          "base_uri": "https://localhost:8080/"
        },
        "id": "7Eq6Lii7yCA6",
        "outputId": "337caf85-1d82-4144-df6b-8017d038bdb7"
      },
      "execution_count": 11,
      "outputs": [
        {
          "output_type": "stream",
          "name": "stdout",
          "text": [
            "[1 1 1 0 0 0 0 2 1 0 0 1 0 1 0 0 1 1 1 1 1 1 1 1 1 1 1 1 1 1 0 2 1 1 0 1 1\n",
            " 1 0 1 1 1 2 1 0 1 0 1 2 0 1 1 0 1 0 0 1 0 1 2 1 0 0 2 0 0 1 0 0 0 0 1 1 2\n",
            " 1 2 1 1 0 1 0 1 1 0 0 2 0 0 0 1 0 2 1 1 0 1 1 2 0 1 0 0 0 2 1 0 1 0 0 0 0\n",
            " 0 0 0 0 0 0 1 0 0 0 0 0 1 1 0 0 1 1 0 0 1 0 0 0 0 0 2 0 1 0 0 0 0 1 0 0 1\n",
            " 0 0 1 1 0 1 1 1 0 0 1 2 2 0 1 1 0 0 0 0 2 1 0 2 2 1 0 1 1 1 1 1 1 0 2 1 0\n",
            " 0 0 1 0 1 0 1 1 0 0 1 0 1 0 1 1 0 2 0 2 1 2 2 2 1 0 2 1 0 1 2 0 0 0 2 0 0\n",
            " 2 2 0 1 2 2 0 0 2 1 2 0 2 0 0 0 0 2 2 0 0 2 0 2 1 2 1 0 1 1 2 2 1 0 0 0 0\n",
            " 2 0 2 2 0 0 2 0 0 2 0 2 0 1 2 1 0 0 0 1 1 0 0 0 1 2 0 0 2 0 0 2 0 1 0 0 0\n",
            " 0 2 0 2 1 0 2 0 0 1 2 2 2 1 0 0 1 2 0 0 2 0 1 0 2 0 1 1 2 0 0 0 2 2 1 2 0\n",
            " 0 0 1 2 0 0 2 2 0 0 1 2 0 0 2 0 0 2 0 0 0 0 1 0 0 0 1 2 1 1 0 2 1 1 0 0 1\n",
            " 1 0 0 2 0 1 0 1 0 1 0 1 2 1 1 0 1 0 1 1 1 1 1 1 0 1 1 1 1 1]\n"
          ]
        }
      ]
    },
    {
      "cell_type": "code",
      "source": [
        "plt.scatter(features[pred ==0,0], features[pred ==0,1], s=100, c='blue', label='cluster1')\n",
        "plt.scatter(features[pred ==1,0], features[pred ==1,1], s=100, c='red', label='cluster2')\n",
        "plt.scatter(features[pred ==2,0], features[pred ==2,1], s=100, c='green', label='cluster3')\n",
        "plt.scatter(kmeans.cluster_centers_[:,0], kmeans.cluster_centers_[:,1], s=300, c='yellow', label='centroid')\n",
        "\n",
        "plt.legend()"
      ],
      "metadata": {
        "colab": {
          "base_uri": "https://localhost:8080/",
          "height": 282
        },
        "id": "_YzHdT_h1GZN",
        "outputId": "f1a30eb5-fb56-41bc-f19f-8911d3854d9d"
      },
      "execution_count": 14,
      "outputs": [
        {
          "output_type": "execute_result",
          "data": {
            "text/plain": [
              "<matplotlib.legend.Legend at 0x7f0a10140ac0>"
            ]
          },
          "metadata": {},
          "execution_count": 14
        },
        {
          "output_type": "display_data",
          "data": {
            "text/plain": [
              "<Figure size 432x288 with 1 Axes>"
            ],
            "image/png": "[encoded data removed]"
          },
          "metadata": {
            "needs_background": "light"
          }
        }
      ]
    }
  ]
}